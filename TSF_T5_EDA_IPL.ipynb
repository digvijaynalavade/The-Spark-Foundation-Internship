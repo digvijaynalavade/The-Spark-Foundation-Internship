{
  "nbformat": 4,
  "nbformat_minor": 0,
  "metadata": {
    "colab": {
      "private_outputs": true,
      "provenance": [],
      "mount_file_id": "1WfsDjX3yeLF1HXLeB7vSNNehUjxTlFrq",
      "authorship_tag": "ABX9TyN5w/yZmmyv10dHJyhE+XMR",
      "include_colab_link": true
    },
    "kernelspec": {
      "name": "python3",
      "display_name": "Python 3"
    },
    "language_info": {
      "name": "python"
    }
  },
  "cells": [
    {
      "cell_type": "markdown",
      "metadata": {
        "id": "view-in-github",
        "colab_type": "text"
      },
      "source": [
        "<a href=\"https://colab.research.google.com/github/digvijaynalavade/The-Spark-Foundation-Internship/blob/main/TSF_T5_EDA_IPL.ipynb\" target=\"_parent\"><img src=\"https://colab.research.google.com/assets/colab-badge.svg\" alt=\"Open In Colab\"/></a>"
      ]
    },
    {
      "cell_type": "markdown",
      "source": [
        "# Digvijay Pandurang Nalavade\n",
        "the spark foundation task 5 \\\n",
        "EDA of IPL data set"
      ],
      "metadata": {
        "id": "TUMnFoneQVBA"
      }
    },
    {
      "cell_type": "markdown",
      "source": [
        "# Import ibraries"
      ],
      "metadata": {
        "id": "NPl1vj7ueJh2"
      }
    },
    {
      "cell_type": "code",
      "source": [
        "# usefull ibraries for analysis\n",
        "import pandas as pd\n",
        "import matplotlib.pyplot as plt\n",
        "import seaborn as sns\n",
        "import numpy as np"
      ],
      "metadata": {
        "id": "6NBXdnItd0qg"
      },
      "execution_count": null,
      "outputs": []
    },
    {
      "cell_type": "markdown",
      "source": [
        "# Read data "
      ],
      "metadata": {
        "id": "5fcWEBB0mQUt"
      }
    },
    {
      "cell_type": "code",
      "source": [
        "# read the file \n",
        "matches = pd.read_csv(\"/content/drive/MyDrive/Projects DS/matches.csv\")\n",
        "deliveies = pd.read_csv(\"/content/drive/MyDrive/Projects DS/deliveries.csv\")"
      ],
      "metadata": {
        "id": "N_iX9dsPs1EO"
      },
      "execution_count": null,
      "outputs": []
    },
    {
      "cell_type": "code",
      "source": [
        "# copy the file\n",
        "df = matches.copy()\n",
        "df2 = deliveies.copy()"
      ],
      "metadata": {
        "id": "BKKwZBc7Bu-Z"
      },
      "execution_count": null,
      "outputs": []
    },
    {
      "cell_type": "markdown",
      "source": [
        "#About Data"
      ],
      "metadata": {
        "id": "FxY0FbLIHsLz"
      }
    },
    {
      "cell_type": "markdown",
      "source": [
        "**Fetch first five rows** "
      ],
      "metadata": {
        "id": "9jQs_0H0ICe5"
      }
    },
    {
      "cell_type": "code",
      "source": [
        "df.head()"
      ],
      "metadata": {
        "id": "j4rHgh7GHHDk"
      },
      "execution_count": null,
      "outputs": []
    },
    {
      "cell_type": "code",
      "source": [
        "df2.head()"
      ],
      "metadata": {
        "id": "7r2k5G36KZDb"
      },
      "execution_count": null,
      "outputs": []
    },
    {
      "cell_type": "markdown",
      "source": [
        "**Columns of data set**"
      ],
      "metadata": {
        "id": "r34n1jIxI524"
      }
    },
    {
      "cell_type": "code",
      "source": [
        "df.columns"
      ],
      "metadata": {
        "id": "deDgXTXeI4M-"
      },
      "execution_count": null,
      "outputs": []
    },
    {
      "cell_type": "code",
      "source": [
        "df2.columns"
      ],
      "metadata": {
        "id": "QSmQnC7uKL6y"
      },
      "execution_count": null,
      "outputs": []
    },
    {
      "cell_type": "markdown",
      "source": [
        "**Information about dataset**"
      ],
      "metadata": {
        "id": "ngkBPQWJJnO-"
      }
    },
    {
      "cell_type": "code",
      "source": [
        "df.info()\n",
        "print(\"\\n\")\n",
        "df2.info()"
      ],
      "metadata": {
        "id": "YTOw0dmIJmaf"
      },
      "execution_count": null,
      "outputs": []
    },
    {
      "cell_type": "markdown",
      "source": [
        "**Statistics of data set**"
      ],
      "metadata": {
        "id": "yPSW0KNBKqs7"
      }
    },
    {
      "cell_type": "code",
      "source": [
        "df.describe()"
      ],
      "metadata": {
        "id": "d9dxPSMKKdEj"
      },
      "execution_count": null,
      "outputs": []
    },
    {
      "cell_type": "code",
      "source": [
        "df2.describe()"
      ],
      "metadata": {
        "id": "hbdOecpwKndv"
      },
      "execution_count": null,
      "outputs": []
    },
    {
      "cell_type": "code",
      "source": [
        "df.shape"
      ],
      "metadata": {
        "id": "uNSs7lWHPfNA"
      },
      "execution_count": null,
      "outputs": []
    },
    {
      "cell_type": "code",
      "source": [
        "df2.shape"
      ],
      "metadata": {
        "id": "TM3qZcoAPiS4"
      },
      "execution_count": null,
      "outputs": []
    },
    {
      "cell_type": "markdown",
      "source": [
        "# Data Cleaning"
      ],
      "metadata": {
        "id": "PRZaHTxqPZ6K"
      }
    },
    {
      "cell_type": "markdown",
      "source": [
        "**Find Duplicate values**"
      ],
      "metadata": {
        "id": "CeU9enOcK_hH"
      }
    },
    {
      "cell_type": "code",
      "source": [
        "df[df.duplicated()]\n",
        "print(\"\\n\")\n",
        "df2[df2.duplicated()]"
      ],
      "metadata": {
        "id": "-SEGqkwuLFDm"
      },
      "execution_count": null,
      "outputs": []
    },
    {
      "cell_type": "code",
      "source": [
        "# 23 duplicate rows found in df2  so drop duplicate values in data set\n",
        "df2.drop_duplicates(inplace=True)"
      ],
      "metadata": {
        "id": "jg3j6oNbLjmL"
      },
      "execution_count": null,
      "outputs": []
    },
    {
      "cell_type": "markdown",
      "source": [
        "**Find Missing values**"
      ],
      "metadata": {
        "id": "RjfWsbx_IKFe"
      }
    },
    {
      "cell_type": "code",
      "source": [
        "df.isnull().sum().sort_values(ascending=False)"
      ],
      "metadata": {
        "id": "U4sufwyKH8F9"
      },
      "execution_count": null,
      "outputs": []
    },
    {
      "cell_type": "code",
      "source": [
        "df2.isnull().sum(axis=1).sort_values(ascending=False)"
      ],
      "metadata": {
        "id": "L6EzqN1kIVqd"
      },
      "execution_count": null,
      "outputs": []
    },
    {
      "cell_type": "markdown",
      "source": [
        "**fill naan vales**"
      ],
      "metadata": {
        "id": "B6MuqpwhJenY"
      }
    },
    {
      "cell_type": "code",
      "source": [
        "# Find maximum match played city and replace with naan values\n",
        "df[\"city\"].value_counts()"
      ],
      "metadata": {
        "id": "93lSHHIbIjzL"
      },
      "execution_count": null,
      "outputs": []
    },
    {
      "cell_type": "code",
      "source": [
        "# Fill null values\n",
        "df['city'].fillna(\"Mumbai\",inplace=True)"
      ],
      "metadata": {
        "id": "apTTBtxpMmFR"
      },
      "execution_count": null,
      "outputs": []
    },
    {
      "cell_type": "code",
      "source": [
        "df['player_of_match'].value_counts(ascending=False)"
      ],
      "metadata": {
        "id": "MkPZDvE-OVm1"
      },
      "execution_count": null,
      "outputs": []
    },
    {
      "cell_type": "code",
      "source": [
        "df['player_of_match'].fillna(\"CH Gayle\",inplace = True)"
      ],
      "metadata": {
        "id": "Pax-I7ymN251"
      },
      "execution_count": null,
      "outputs": []
    },
    {
      "cell_type": "code",
      "source": [
        "df['winner'].value_counts(ascending=False)"
      ],
      "metadata": {
        "id": "03_5MpUfOqNx"
      },
      "execution_count": null,
      "outputs": []
    },
    {
      "cell_type": "code",
      "source": [
        "df['winner'].fillna(\"Mumbai Indians\",inplace = True)"
      ],
      "metadata": {
        "id": "beSxvUtsO328"
      },
      "execution_count": null,
      "outputs": []
    },
    {
      "cell_type": "code",
      "source": [
        "df.isnull().sum().sort_values(ascending=False)"
      ],
      "metadata": {
        "id": "AKQpm4K9NibA"
      },
      "execution_count": null,
      "outputs": []
    },
    {
      "cell_type": "code",
      "source": [
        "# umpire3 have more number of missing values so this colum was delete in analysis\n",
        "df.drop(columns={\"umpire3\"},inplace=True)"
      ],
      "metadata": {
        "id": "9JCu_g5pNooX"
      },
      "execution_count": null,
      "outputs": []
    },
    {
      "cell_type": "code",
      "source": [
        "# Find missing percentage of data\n",
        "Misspercent_df2 = round(df2.isnull().sum().sort_values(ascending=False)/len(df2)*100,1)\n",
        "Misspercent_df2"
      ],
      "metadata": {
        "id": "3nuQ5DvqQaTn"
      },
      "execution_count": null,
      "outputs": []
    },
    {
      "cell_type": "code",
      "source": [
        "# fielder, dismissal_kind, player_dismissed in this columns more than half data was missing so drop this columns\n",
        "df2.drop(columns={'fielder', 'dismissal_kind', 'player_dismissed'},inplace=True)"
      ],
      "metadata": {
        "id": "m6xaAIRyQ1Eh"
      },
      "execution_count": null,
      "outputs": []
    },
    {
      "cell_type": "code",
      "source": [
        "# rename the colums\n",
        "df.rename(columns={\"id\":\"match_id\"},inplace=True)"
      ],
      "metadata": {
        "id": "mQFp3wgXrjZl"
      },
      "execution_count": null,
      "outputs": []
    },
    {
      "cell_type": "code",
      "source": [
        "# join table using pandas merge function\n",
        "data = pd.merge(df, df2, on='match_id', how='inner')"
      ],
      "metadata": {
        "id": "Im3OKfgFrukT"
      },
      "execution_count": null,
      "outputs": []
    },
    {
      "cell_type": "code",
      "source": [
        "# check data was join \n",
        "data.head()"
      ],
      "metadata": {
        "id": "5GOUlEETr3ej"
      },
      "execution_count": null,
      "outputs": []
    },
    {
      "cell_type": "markdown",
      "source": [
        "# EDA"
      ],
      "metadata": {
        "id": "ltjwOOz7SUy8"
      }
    },
    {
      "cell_type": "markdown",
      "source": [
        "**Total Match Played**"
      ],
      "metadata": {
        "id": "b2WNjrGUTI6j"
      }
    },
    {
      "cell_type": "code",
      "source": [
        "print(f\"Total match played in all season:\")\n",
        "df[\"match_id\"].count()"
      ],
      "metadata": {
        "id": "F2ucjuD-UuwL"
      },
      "execution_count": null,
      "outputs": []
    },
    {
      "cell_type": "markdown",
      "source": [
        "**Seasons of year**"
      ],
      "metadata": {
        "id": "ukl_94xzTS3A"
      }
    },
    {
      "cell_type": "code",
      "source": [
        "print(f\"seasons Year :\")\n",
        "df['season'].unique()"
      ],
      "metadata": {
        "id": "iWw2oC7wSkPc"
      },
      "execution_count": null,
      "outputs": []
    },
    {
      "cell_type": "markdown",
      "source": [
        "**Season waise Total match was played**"
      ],
      "metadata": {
        "id": "4i-GeHcyTfJJ"
      }
    },
    {
      "cell_type": "code",
      "source": [
        "# using groupby function find number of mathes played in each season\n",
        "Season_Matchplyed = df.groupby(\"season\")[\"match_id\"].count().sort_values(ascending=False)\n",
        "print(Season_Matchplyed)\n",
        "print(\"\\n\")\n",
        "sns.countplot(df[\"season\"])\n",
        "plt.title(\"Season And Number Of Match plyed\")\n",
        "plt.xlabel(\"Season Year\")\n",
        "plt.ylabel(\"number of matches plyed\")\n",
        "plt.figuresize=12,10\n",
        "plt.show()\n"
      ],
      "metadata": {
        "id": "mluCKHihTcnX"
      },
      "execution_count": null,
      "outputs": []
    },
    {
      "cell_type": "markdown",
      "source": [
        "**Top 5 citys where IPL was most time plays**"
      ],
      "metadata": {
        "id": "0VUIvq2bXz9_"
      }
    },
    {
      "cell_type": "code",
      "source": [
        "top_citys_IPL_plyed = df['city'].value_counts().head()\n",
        "print(top_citys_IPL_plyed)\n",
        "print(\"\\n\")\n",
        "top_citys_IPL_plyed.plot(kind=\"pie\")\n",
        "plt.title(\"Top citys where most play\")\n",
        "plt.xlabel(\"city\")\n",
        "plt.ylabel(\"number of matches plyed\")\n",
        "plt.figuresize=12,10\n",
        "plt.show()"
      ],
      "metadata": {
        "id": "E1rm1pwFXfAO"
      },
      "execution_count": null,
      "outputs": []
    },
    {
      "cell_type": "markdown",
      "source": [
        "**Number of Teams In IPL**"
      ],
      "metadata": {
        "id": "jFYq4bhHZn8T"
      }
    },
    {
      "cell_type": "code",
      "source": [
        "# Find unique Team\n",
        "print(\"Number of Teams in IPL :\")\n",
        "df['team2'].nunique()"
      ],
      "metadata": {
        "id": "dY3pDn2QXqav"
      },
      "execution_count": null,
      "outputs": []
    },
    {
      "cell_type": "code",
      "source": [
        "# Team name\n",
        "Team_name = pd.DataFrame(df['team1'].unique())\n",
        "Team_name"
      ],
      "metadata": {
        "id": "SRJ2VggSZLAu"
      },
      "execution_count": null,
      "outputs": []
    },
    {
      "cell_type": "markdown",
      "source": [
        "**Team and Number of Toss win count**"
      ],
      "metadata": {
        "id": "-MnXySJLa20P"
      }
    },
    {
      "cell_type": "code",
      "source": [
        "Toss_winer = df['toss_winner'].value_counts()\n",
        "print(\"Toss_winer\")\n",
        "print(\"\\n\")\n",
        "Toss_winer.plot()\n",
        "plt.title(\"Team and Wint Count of Toss\")\n",
        "plt.xlabel(\"Team Name\")\n",
        "plt.ylabel(\"Number of Toss wins\")\n",
        "plt.xticks(rotation=30)\n",
        "plt.rcParams['figure.figsize']=(15,8) \n",
        "plt.show()"
      ],
      "metadata": {
        "id": "S2J0YF9fanjj"
      },
      "execution_count": null,
      "outputs": []
    },
    {
      "cell_type": "markdown",
      "source": [
        "**Toss Decision**"
      ],
      "metadata": {
        "id": "jrePeUF613-J"
      }
    },
    {
      "cell_type": "code",
      "source": [
        "Toss_decigion = pd.DataFrame(df.groupby([\"toss_winner\",\"toss_decision\"])[\"toss_decision\"].count())\n",
        "Toss_decigion"
      ],
      "metadata": {
        "id": "ixXysAN5ayhV"
      },
      "execution_count": null,
      "outputs": []
    },
    {
      "cell_type": "markdown",
      "source": [
        "**Winner**"
      ],
      "metadata": {
        "id": "KvnXWi9_vcrJ"
      }
    },
    {
      "cell_type": "code",
      "source": [
        "# create New DatFream\n",
        "season_and_teams = pd.DataFrame(df.groupby([\"season\"])[\"winner\"].value_counts().sort_values(ascending=False))\n",
        "season_and_teams"
      ],
      "metadata": {
        "id": "EvsR-3NhEKLA"
      },
      "execution_count": null,
      "outputs": []
    },
    {
      "cell_type": "markdown",
      "source": [
        "**Top 5 player of match**"
      ],
      "metadata": {
        "id": "L7kHhJjSvnOT"
      }
    },
    {
      "cell_type": "code",
      "source": [
        "top_player_of_match = df[\"player_of_match\"].value_counts().head()\n",
        "print(\"top_player_of_match\")\n",
        "print(\"\\n\")\n",
        "top_player_of_match.plot(kind=\"bar\")\n",
        "plt.title(\"Top Player Of Match\")\n",
        "plt.xlabel(\"Player Name\")\n",
        "plt.ylabel(\"Number of Awarded\")\n",
        "plt.xticks(rotation =0)\n",
        "plt.rcParams['figure.figsize']=(15,8) \n",
        "plt.show()"
      ],
      "metadata": {
        "id": "T7vCR2dbvfwM"
      },
      "execution_count": null,
      "outputs": []
    },
    {
      "cell_type": "markdown",
      "source": [
        "**Venue**"
      ],
      "metadata": {
        "id": "H0Xu0vt40ow3"
      }
    },
    {
      "cell_type": "code",
      "source": [
        "Venue = df.groupby(\"city\")[\"venue\"].value_counts().sort_values(ascending=False)\n",
        "print(Venue)"
      ],
      "metadata": {
        "id": "qdPmX-I5zHot"
      },
      "execution_count": null,
      "outputs": []
    },
    {
      "cell_type": "code",
      "source": [
        "print(Venue.head(10))\n",
        "print(\"\\n\")\n",
        "Venue.plot(kind=\"bar\")\n",
        "plt.show()"
      ],
      "metadata": {
        "id": "Qqz0tSPQ1d9L"
      },
      "execution_count": null,
      "outputs": []
    },
    {
      "cell_type": "markdown",
      "source": [
        "**Player and total runs in all season**"
      ],
      "metadata": {
        "id": "rQFDfO7z4eJ9"
      }
    },
    {
      "cell_type": "code",
      "source": [
        "Player_of_match_Runs = data.groupby(\"player_of_match\")[\"total_runs\"].sum().sort_values(ascending=False).head(10)\n",
        "print(\"Player_of_match_Runs\")\n",
        "print(\"\\n\")\n",
        "Player_of_match_Runs.plot(kind=\"bar\")\n",
        "plt.title(\"Top Player of match Runs\")\n",
        "plt.xlabel(\"Player Name\")\n",
        "plt.ylabel(\"total runs\")\n",
        "plt.xticks(rotation =0)\n",
        "plt.rcParams['figure.figsize']=(15,8) \n",
        "plt.show()"
      ],
      "metadata": {
        "id": "irgZgZ6w2ZGU"
      },
      "execution_count": null,
      "outputs": []
    },
    {
      "cell_type": "code",
      "source": [
        "top_bowler = data.groupby(\"bowler\")[\"ball\"].sum().sort_values(ascending=False)\n",
        "print(top_bowler)\n",
        "print(\"top_bowler\")\n",
        "print(\"\\n\")\n",
        "top_bowler.plot()\n",
        "plt.title(\"Top Five bowler\")\n",
        "plt.xlabel(\"Player Name\")\n",
        "plt.xticks(rotation =0)\n",
        "plt.rcParams['figure.figsize']=(15,8) \n",
        "plt.show()"
      ],
      "metadata": {
        "id": "vG0xf-YU_hIQ"
      },
      "execution_count": null,
      "outputs": []
    },
    {
      "cell_type": "code",
      "source": [
        "data.columns"
      ],
      "metadata": {
        "id": "Qwrv7x0f_uzD"
      },
      "execution_count": null,
      "outputs": []
    },
    {
      "cell_type": "markdown",
      "source": [
        "**Home Ground of teams**"
      ],
      "metadata": {
        "id": "sc_omtASiPpf"
      }
    },
    {
      "cell_type": "code",
      "source": [
        "team_list = list(data[\"team1\"].unique())"
      ],
      "metadata": {
        "id": "2ZYP3psBiYHG"
      },
      "execution_count": null,
      "outputs": []
    },
    {
      "cell_type": "code",
      "source": [
        "for team in team_list:\n",
        "  print(\"\\n\")\n",
        "  print(f\"{team} and thir home Ground is\")\n",
        "  print(data.venue[data[\"toss_winner\"]==team] [data[\"toss_winner\"]==team].mode())"
      ],
      "metadata": {
        "id": "HjbGj5Cvi0Dc"
      },
      "execution_count": null,
      "outputs": []
    },
    {
      "cell_type": "code",
      "source": [],
      "metadata": {
        "id": "yIuv4JtzvVKw"
      },
      "execution_count": null,
      "outputs": []
    }
  ]
}