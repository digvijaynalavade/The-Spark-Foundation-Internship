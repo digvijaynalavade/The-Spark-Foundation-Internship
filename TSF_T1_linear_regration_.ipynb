{
  "nbformat": 4,
  "nbformat_minor": 0,
  "metadata": {
    "colab": {
      "private_outputs": true,
      "provenance": [],
      "authorship_tag": "ABX9TyPoFDGIKaVvKr69DJLukQCO",
      "include_colab_link": true
    },
    "kernelspec": {
      "name": "python3",
      "display_name": "Python 3"
    },
    "language_info": {
      "name": "python"
    }
  },
  "cells": [
    {
      "cell_type": "markdown",
      "metadata": {
        "id": "view-in-github",
        "colab_type": "text"
      },
      "source": [
        "<a href=\"https://colab.research.google.com/github/digvijaynalavade/The-Spark-Foundation-Internship/blob/main/TSF_T1_linear_regration_.ipynb\" target=\"_parent\"><img src=\"https://colab.research.google.com/assets/colab-badge.svg\" alt=\"Open In Colab\"/></a>"
      ]
    },
    {
      "cell_type": "markdown",
      "source": [
        "# Import libraries "
      ],
      "metadata": {
        "id": "tnwAgNr9GjLI"
      }
    },
    {
      "cell_type": "code",
      "execution_count": null,
      "metadata": {
        "id": "-6O_9MNgEseI"
      },
      "outputs": [],
      "source": [
        "# Importing  libraries \n",
        "import pandas as pd\n",
        "import numpy as np  \n",
        "import matplotlib.pyplot as plt  \n",
        "import seaborn as sns\n",
        "%matplotlib inline"
      ]
    },
    {
      "cell_type": "markdown",
      "source": [
        "# Collect data"
      ],
      "metadata": {
        "id": "sgM8mpOgICTX"
      }
    },
    {
      "cell_type": "code",
      "source": [
        "# Read data file\n",
        "file_path = \"http://bit.ly/w-data\"\n",
        "df = pd.read_csv(file_path)"
      ],
      "metadata": {
        "id": "-NLOszwoGpgD"
      },
      "execution_count": null,
      "outputs": []
    },
    {
      "cell_type": "code",
      "source": [
        "# Fetch first Five rows of data\n",
        "df.head()"
      ],
      "metadata": {
        "id": "HnpcZ84DHo2q"
      },
      "execution_count": null,
      "outputs": []
    },
    {
      "cell_type": "markdown",
      "source": [
        "#Abot Data Set"
      ],
      "metadata": {
        "id": "-IRms9V0JmO6"
      }
    },
    {
      "cell_type": "code",
      "source": [
        "# Find missning values\n",
        "df.isnull().sum(axis=0)"
      ],
      "metadata": {
        "id": "yUzBCVu8JlwK"
      },
      "execution_count": null,
      "outputs": []
    },
    {
      "cell_type": "code",
      "source": [
        "# Find duplicate values\n",
        "df[df.duplicated()]"
      ],
      "metadata": {
        "id": "YCqdM9TGKAtN"
      },
      "execution_count": null,
      "outputs": []
    },
    {
      "cell_type": "code",
      "source": [
        "# Column name \n",
        "df.columns"
      ],
      "metadata": {
        "id": "B4LrFP7nKAw3"
      },
      "execution_count": null,
      "outputs": []
    },
    {
      "cell_type": "code",
      "source": [
        "# shape of the data\n",
        "df.shape"
      ],
      "metadata": {
        "id": "Tg_jSJWli1QU"
      },
      "execution_count": null,
      "outputs": []
    },
    {
      "cell_type": "code",
      "source": [
        "# more about data set\n",
        "df.info()"
      ],
      "metadata": {
        "id": "jDBrr1b5KA0r"
      },
      "execution_count": null,
      "outputs": []
    },
    {
      "cell_type": "code",
      "source": [
        "# Statistics of data\n",
        "df.describe()"
      ],
      "metadata": {
        "id": "QWDJebxPKA4m"
      },
      "execution_count": null,
      "outputs": []
    },
    {
      "cell_type": "markdown",
      "source": [
        "# Analysis Data"
      ],
      "metadata": {
        "id": "CKmP8jwGQZQj"
      }
    },
    {
      "cell_type": "code",
      "source": [
        "# Plotting the distribution of scores\n",
        "plt.figure(figsize=(10, 8))\n",
        "df.plot(x='Hours', y='Scores', style='>') \n",
        "plt.title('Hours vs Percentage')  \n",
        "plt.xlabel('Hours Studied')  \n",
        "plt.ylabel('Percentage Score')  \n",
        "plt.show()"
      ],
      "metadata": {
        "id": "_3tLQVALIqo3"
      },
      "execution_count": null,
      "outputs": []
    },
    {
      "cell_type": "code",
      "source": [
        "sns.jointplot(x=df[\"Hours\"],y=df[\"Scores\"])\n",
        "plt.title('Hours vs Percentage')  \n",
        "plt.xlabel('Hours Studied')  \n",
        "plt.ylabel('Percentage Score')  \n",
        "plt.show()"
      ],
      "metadata": {
        "id": "rvyKav5XuB3k"
      },
      "execution_count": null,
      "outputs": []
    },
    {
      "cell_type": "markdown",
      "source": [
        "# Training And Testing"
      ],
      "metadata": {
        "id": "P4u-j8eBQiYb"
      }
    },
    {
      "cell_type": "code",
      "source": [
        "# split data depedunt and independunt\n",
        "X = df.iloc[:, :-1].values  \n",
        "y = df.iloc[:, 1].values "
      ],
      "metadata": {
        "id": "Uk_YrXPGQOso"
      },
      "execution_count": null,
      "outputs": []
    },
    {
      "cell_type": "code",
      "source": [
        "# slice data in 80 % for training of model 20 % for testing of model using Scikit-learn librarie\n",
        "from sklearn.model_selection import train_test_split  \n",
        "X_train, X_test, y_train, y_test = train_test_split(X, y,test_size=0.2, random_state=0) \n",
        "                            "
      ],
      "metadata": {
        "id": "OnvMcLrMU091"
      },
      "execution_count": null,
      "outputs": []
    },
    {
      "cell_type": "code",
      "source": [
        "# train model using Scikit-learn linear model\n",
        "from sklearn.linear_model import LinearRegression  \n",
        "regressor = LinearRegression()  \n",
        "regressor.fit(X_train, y_train)"
      ],
      "metadata": {
        "id": "Po-vOEI_Mgm9"
      },
      "execution_count": null,
      "outputs": []
    },
    {
      "cell_type": "code",
      "source": [
        "# Plotting the regression line\n",
        "line = regressor.coef_*X+regressor.intercept_\n",
        "\n",
        "# Plotting for the test data\n",
        "plt.scatter(X, y)\n",
        "plt.plot(X, line);\n",
        "plt.show()"
      ],
      "metadata": {
        "id": "1e0DW6p2Wvbu"
      },
      "execution_count": null,
      "outputs": []
    },
    {
      "cell_type": "code",
      "source": [
        "# trained algorithm  to make predictions\n",
        "print(X_test) \n",
        "print(\"\\n\")\n",
        "y_pred = regressor.predict(X_test) \n",
        "print(y_pred)"
      ],
      "metadata": {
        "id": "bO-YQ3mvXIDL"
      },
      "execution_count": null,
      "outputs": []
    },
    {
      "cell_type": "code",
      "source": [
        "# Useing pandas librarie to create data frame of Comparing Actual vs Predicted\n",
        "data = pd.DataFrame({'Actual': y_test, 'Predicted': y_pred})  \n",
        "data "
      ],
      "metadata": {
        "id": "YRFvaO62X2IY"
      },
      "execution_count": null,
      "outputs": []
    },
    {
      "cell_type": "code",
      "source": [
        "# prediction score\n",
        "hours = [9.25]\n",
        "prediction = regressor.predict([hours])\n",
        "print(f\"predicted score is = {prediction[0]}\")"
      ],
      "metadata": {
        "id": "Q8Y7Tt_7Tii7"
      },
      "execution_count": null,
      "outputs": []
    },
    {
      "cell_type": "markdown",
      "source": [
        "# Performance "
      ],
      "metadata": {
        "id": "HxxEJkHkRX8p"
      }
    },
    {
      "cell_type": "code",
      "source": [
        "# performance of algorithm using mean Absolute Error\n",
        "from sklearn import metrics  \n",
        "print( f\"Mean Absolute Error : {metrics.mean_absolute_error(y_test, y_pred)}\") "
      ],
      "metadata": {
        "id": "3KmkqvrLa3bh"
      },
      "execution_count": null,
      "outputs": []
    }
  ]
}